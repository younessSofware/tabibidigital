{
 "cells": [
  {
   "cell_type": "code",
   "execution_count": 9,
   "id": "402185ac-89c5-4790-8dbe-b4892b862cbc",
   "metadata": {},
   "outputs": [
    {
     "name": "stdout",
     "output_type": "stream",
     "text": [
      "[[8.152817e-08 9.999999e-01]]\n"
     ]
    }
   ],
   "source": [
    "from tensorflow.keras.models import load_model, model_from_json\n",
    "import cv2\n",
    "import numpy as np\n",
    "import pandas as pd\n",
    "def preprocessing(image):\n",
    "    image = cv2.resize(image, (28, 28))\n",
    "    image = image/255.\n",
    "    return image\n",
    "\n",
    "\n",
    "loaded_model = load_model('./breast_model.h5')\n",
    "image = cv2.imread('11.png')\n",
    "image = preprocessing(image)\n",
    "image = image.reshape([1] + list(image.shape))\n",
    "print(loaded_model.predict(image))"
   ]
  },
  {
   "cell_type": "code",
   "execution_count": 10,
   "id": "1d6d7530-82b2-4f0f-9c90-77614880caa9",
   "metadata": {},
   "outputs": [
    {
     "data": {
      "text/plain": [
       "True"
      ]
     },
     "execution_count": 10,
     "metadata": {},
     "output_type": "execute_result"
    }
   ],
   "source": [
    "1.000000e+00 == 1"
   ]
  },
  {
   "cell_type": "code",
   "execution_count": null,
   "id": "7a092e85-aea3-45aa-85d9-fe3f161dd17c",
   "metadata": {},
   "outputs": [],
   "source": []
  }
 ],
 "metadata": {
  "kernelspec": {
   "display_name": "Python 3",
   "language": "python",
   "name": "python3"
  },
  "language_info": {
   "codemirror_mode": {
    "name": "ipython",
    "version": 3
   },
   "file_extension": ".py",
   "mimetype": "text/x-python",
   "name": "python",
   "nbconvert_exporter": "python",
   "pygments_lexer": "ipython3",
   "version": "3.9.5"
  }
 },
 "nbformat": 4,
 "nbformat_minor": 5
}
