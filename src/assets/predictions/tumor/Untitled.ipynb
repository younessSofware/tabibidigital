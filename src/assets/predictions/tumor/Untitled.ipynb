{
 "cells": [
  {
   "cell_type": "code",
   "execution_count": 1,
   "id": "3f638b42-6c13-47b6-8f38-185d480566a3",
   "metadata": {},
   "outputs": [
    {
     "name": "stdout",
     "output_type": "stream",
     "text": [
      "(1, 224, 224, 3)\n",
      "WARNING:tensorflow:Error in loading the saved optimizer state. As a result, your model is starting with a freshly initialized optimizer.\n",
      "[[7.904712e-15]]\n"
     ]
    }
   ],
   "source": [
    "from tensorflow.keras.models import load_model, model_from_json\n",
    "import cv2\n",
    "import numpy as np\n",
    "import pandas as pd\n",
    "def preprocessing(image):\n",
    "    image = cv2.resize(image, (224, 224))\n",
    "    return image\n",
    "image = cv2.imread('No22.jpg')\n",
    "image = preprocessing(image)\n",
    "image = image.reshape([1] + list(image.shape))\n",
    "print(image.shape)\n",
    "model = load_model('2019-06-07_VGG_model.h5')\n",
    "pred = model.predict(image)\n",
    "print(pred)"
   ]
  },
  {
   "cell_type": "code",
   "execution_count": null,
   "id": "e873d71b-4f04-4d6f-a851-573dab956458",
   "metadata": {},
   "outputs": [],
   "source": []
  }
 ],
 "metadata": {
  "kernelspec": {
   "display_name": "Python 3",
   "language": "python",
   "name": "python3"
  },
  "language_info": {
   "codemirror_mode": {
    "name": "ipython",
    "version": 3
   },
   "file_extension": ".py",
   "mimetype": "text/x-python",
   "name": "python",
   "nbconvert_exporter": "python",
   "pygments_lexer": "ipython3",
   "version": "3.9.5"
  }
 },
 "nbformat": 4,
 "nbformat_minor": 5
}
