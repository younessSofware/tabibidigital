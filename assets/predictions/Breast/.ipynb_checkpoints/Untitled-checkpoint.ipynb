{
 "cells": [
  {
   "cell_type": "code",
   "execution_count": 5,
   "id": "402185ac-89c5-4790-8dbe-b4892b862cbc",
   "metadata": {},
   "outputs": [
    {
     "name": "stdout",
     "output_type": "stream",
     "text": [
      "[[0.50003874 0.49996132]]\n"
     ]
    }
   ],
   "source": [
    "from tensorflow.keras.models import load_model, model_from_json\n",
    "import cv2\n",
    "import numpy as np\n",
    "import pandas as pd\n",
    "def preprocessing(image):\n",
    "    image = cv2.resize(image, (48, 48))\n",
    "    image = image/255.\n",
    "    return image\n",
    "\n",
    "json_file = open('model.json', 'r')\n",
    "loaded_model_json = json_file.read()\n",
    "json_file.close()\n",
    "\n",
    "loaded_model = model_from_json(loaded_model_json)\n",
    "\n",
    "image = cv2.imread('111.png')\n",
    "image = preprocessing(image)\n",
    "image = image.reshape([1] + list(image.shape))\n",
    "print(loaded_model.predict(image))"
   ]
  },
  {
   "cell_type": "code",
   "execution_count": null,
   "id": "1d6d7530-82b2-4f0f-9c90-77614880caa9",
   "metadata": {},
   "outputs": [],
   "source": []
  }
 ],
 "metadata": {
  "kernelspec": {
   "display_name": "Python 3",
   "language": "python",
   "name": "python3"
  },
  "language_info": {
   "codemirror_mode": {
    "name": "ipython",
    "version": 3
   },
   "file_extension": ".py",
   "mimetype": "text/x-python",
   "name": "python",
   "nbconvert_exporter": "python",
   "pygments_lexer": "ipython3",
   "version": "3.9.5"
  }
 },
 "nbformat": 4,
 "nbformat_minor": 5
}
